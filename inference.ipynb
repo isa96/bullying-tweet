{
 "cells": [
  {
   "cell_type": "markdown",
   "metadata": {},
   "source": [
    "# 1 - Introduction"
   ]
  },
  {
   "attachments": {},
   "cell_type": "markdown",
   "metadata": {},
   "source": [
    "- Dataset : `cyberbullying_tweets` \n",
    "\n",
    "*Dataset* ini berisi informasi mengenai tweet dari setiap akun dan tipe dari tweet tersebut. Tipe tweet dibagi menjadi 5 yaitu *religion*, *age*, *gender*, *ethnicity* dan *not cyberbullying*\n",
    "\n",
    "- Objective : \n",
    "    \n",
    "  Inferencing model LSTM Improvement untung mengklasifikasikan tweet baru"
   ]
  },
  {
   "cell_type": "markdown",
   "metadata": {},
   "source": [
    "# 2. Import Library"
   ]
  },
  {
   "cell_type": "markdown",
   "metadata": {},
   "source": [
    "Selanjutnya saya akan *import library* yang dibutuhkan"
   ]
  },
  {
   "cell_type": "code",
   "execution_count": 1,
   "metadata": {},
   "outputs": [],
   "source": [
    "# Library Load Model\n",
    "import pandas as pd\n",
    "import numpy as np\n",
    "from tensorflow.keras.models import load_model\n",
    "\n",
    "# Library Pre-Processing\n",
    "from nltk.stem import WordNetLemmatizer\n",
    "import nltk\n",
    "import re\n",
    "from nltk.corpus import stopwords\n",
    "from nltk.tokenize import word_tokenize"
   ]
  },
  {
   "cell_type": "markdown",
   "metadata": {},
   "source": [
    "# 3. Import File Model"
   ]
  },
  {
   "attachments": {},
   "cell_type": "markdown",
   "metadata": {},
   "source": [
    "Import file dengan menggunakan bantuan library `load_model` tensorflow"
   ]
  },
  {
   "cell_type": "code",
   "execution_count": 2,
   "metadata": {},
   "outputs": [],
   "source": [
    "# Load Model\n",
    "  \n",
    "model_lstm = load_model('best_model')"
   ]
  },
  {
   "attachments": {},
   "cell_type": "markdown",
   "metadata": {},
   "source": [
    "# 4. Membuat Fungsi Pre-Processing Text"
   ]
  },
  {
   "attachments": {},
   "cell_type": "markdown",
   "metadata": {},
   "source": [
    "Selanjutnya adalah membuat fungsi *pre-processing* text"
   ]
  },
  {
   "cell_type": "code",
   "execution_count": 3,
   "metadata": {},
   "outputs": [],
   "source": [
    "# Additional Stopwords\n",
    "additional_stopwords = ['rt', 'mkr', 'didn', 'bc', 'n', 'm', \n",
    "                  'im', 'll', 'y', 've', 'u', 'ur', 'don', \n",
    "                  'p', 't', 's', 'aren', 'kp', 'o', 'kat',\n",
    "                  'de', 're', 'amp', 'will', 'wa', 'e', 'like', 'andre', 'na', 're', 'lil', 'd', 'na', 'pete', 'annie', 'nikki', 'lmao', 'miley', 'wan', 'gon']"
   ]
  },
  {
   "cell_type": "code",
   "execution_count": 4,
   "metadata": {},
   "outputs": [],
   "source": [
    "# Setting stopwords english\n",
    "stpwds_eng = list(set(stopwords.words('english')))\n",
    "for i in additional_stopwords:\n",
    "    stpwds_eng.append(i)"
   ]
  },
  {
   "cell_type": "code",
   "execution_count": 5,
   "metadata": {},
   "outputs": [],
   "source": [
    "# Membuat Fungsi Pre-Processing Text\n",
    "\n",
    "cleaning_pattern = \"@\\S+|https?:\\S+|http?:\\S|[^A-Za-z0-9]+\"\n",
    "lemmatizer = WordNetLemmatizer()\n",
    "\n",
    "def text_proses(teks):\n",
    "\n",
    "    # Mengubah Teks ke Lowercase\n",
    "    teks = teks.lower()\n",
    "\n",
    "    # Menghilangkan Link\n",
    "    teks = re.sub(cleaning_pattern, ' ', teks)\n",
    "\n",
    "    # Menghilangkan Mention\n",
    "    teks = re.sub(\"@[A-Za-z0-9_]+\", \" \", teks)\n",
    "  \n",
    "    # Menghilangkan Hashtag\n",
    "    teks = re.sub(\"#[A-Za-z0-9_]+\", \" \", teks)\n",
    "\n",
    "    # Menghilangkan \\n\n",
    "    teks = re.sub(r\"\\\\n\", \" \",teks)\n",
    "\n",
    "    # Menghilangkan kata dibawah 3 char\n",
    "    teks = re.sub(r'\\b\\w{1,3}\\b', \" \",teks)\n",
    "  \n",
    "    # Menghilangkan Whitespace\n",
    "    teks = teks.strip()\n",
    "\n",
    "    # Menghilangkan yang Bukan Huruf seperti Emoji, Gamma dll\n",
    "    teks = re.sub(\"[^A-Za-z\\s']\", \" \", teks)\n",
    "\n",
    "    # Menghilangkan double space\n",
    "    teks = re.sub(\"\\s\\s+\" , \" \", teks)\n",
    "        \n",
    "    # Melakukan Tokenisasi\n",
    "    tokens = word_tokenize(teks)\n",
    "\n",
    "    # Menghilangkan Stopwords\n",
    "    teks = ' '.join([word for word in tokens if word not in stpwds_eng])\n",
    "\n",
    "    # Melakukan Lemmatizer\n",
    "    teks = lemmatizer.lemmatize(teks)\n",
    "   \n",
    "\n",
    "    return teks"
   ]
  },
  {
   "attachments": {},
   "cell_type": "markdown",
   "metadata": {},
   "source": [
    "# 5. Membuat Data Inferencing"
   ]
  },
  {
   "attachments": {},
   "cell_type": "markdown",
   "metadata": {},
   "source": [
    "Saya membuat 1 *data inferencing* dan *convert* ke *dataframe* dengan bantuan pandas"
   ]
  },
  {
   "cell_type": "code",
   "execution_count": 6,
   "metadata": {},
   "outputs": [
    {
     "data": {
      "text/html": [
       "<div>\n",
       "<style scoped>\n",
       "    .dataframe tbody tr th:only-of-type {\n",
       "        vertical-align: middle;\n",
       "    }\n",
       "\n",
       "    .dataframe tbody tr th {\n",
       "        vertical-align: top;\n",
       "    }\n",
       "\n",
       "    .dataframe thead th {\n",
       "        text-align: right;\n",
       "    }\n",
       "</style>\n",
       "<table border=\"1\" class=\"dataframe\">\n",
       "  <thead>\n",
       "    <tr style=\"text-align: right;\">\n",
       "      <th></th>\n",
       "      <th>tweet_text</th>\n",
       "    </tr>\n",
       "  </thead>\n",
       "  <tbody>\n",
       "    <tr>\n",
       "      <th>0</th>\n",
       "      <td>I want to eat samyang with spicy sauce level 5</td>\n",
       "    </tr>\n",
       "  </tbody>\n",
       "</table>\n",
       "</div>"
      ],
      "text/plain": [
       "                                       tweet_text\n",
       "0  I want to eat samyang with spicy sauce level 5"
      ]
     },
     "execution_count": 6,
     "metadata": {},
     "output_type": "execute_result"
    }
   ],
   "source": [
    "# Create New Data \n",
    "\n",
    "data_inf = {\n",
    "    'tweet_text' : 'I want to eat samyang with spicy sauce level 5'                                \n",
    "}\n",
    "\n",
    "data_inf = pd.DataFrame([data_inf])\n",
    "data_inf"
   ]
  },
  {
   "attachments": {},
   "cell_type": "markdown",
   "metadata": {},
   "source": [
    "# 5. Pre-Processing Data Inference"
   ]
  },
  {
   "attachments": {},
   "cell_type": "markdown",
   "metadata": {},
   "source": [
    "Selanjutnya adalah Pre-Processing Data Inference"
   ]
  },
  {
   "cell_type": "code",
   "execution_count": 7,
   "metadata": {},
   "outputs": [],
   "source": [
    "# Preprocessing Data Inference\n",
    "data_inf['tweet_processed'] = data_inf['tweet_text'].apply(lambda x: text_proses(x))"
   ]
  },
  {
   "cell_type": "code",
   "execution_count": 8,
   "metadata": {},
   "outputs": [
    {
     "data": {
      "text/html": [
       "<div>\n",
       "<style scoped>\n",
       "    .dataframe tbody tr th:only-of-type {\n",
       "        vertical-align: middle;\n",
       "    }\n",
       "\n",
       "    .dataframe tbody tr th {\n",
       "        vertical-align: top;\n",
       "    }\n",
       "\n",
       "    .dataframe thead th {\n",
       "        text-align: right;\n",
       "    }\n",
       "</style>\n",
       "<table border=\"1\" class=\"dataframe\">\n",
       "  <thead>\n",
       "    <tr style=\"text-align: right;\">\n",
       "      <th></th>\n",
       "      <th>tweet_text</th>\n",
       "      <th>tweet_processed</th>\n",
       "    </tr>\n",
       "  </thead>\n",
       "  <tbody>\n",
       "    <tr>\n",
       "      <th>0</th>\n",
       "      <td>I want to eat samyang with spicy sauce level 5</td>\n",
       "      <td>want samyang spicy sauce level</td>\n",
       "    </tr>\n",
       "  </tbody>\n",
       "</table>\n",
       "</div>"
      ],
      "text/plain": [
       "                                       tweet_text  \\\n",
       "0  I want to eat samyang with spicy sauce level 5   \n",
       "\n",
       "                  tweet_processed  \n",
       "0  want samyang spicy sauce level  "
      ]
     },
     "execution_count": 8,
     "metadata": {},
     "output_type": "execute_result"
    }
   ],
   "source": [
    "# Mengecek keberhasilan Pre-Processing\n",
    "data_inf"
   ]
  },
  {
   "attachments": {},
   "cell_type": "markdown",
   "metadata": {},
   "source": [
    "# 6. Prediksi Jenis Tweet"
   ]
  },
  {
   "attachments": {},
   "cell_type": "markdown",
   "metadata": {},
   "source": [
    "Yang terakhir adalah prediksi jenis tweet"
   ]
  },
  {
   "cell_type": "code",
   "execution_count": 9,
   "metadata": {},
   "outputs": [
    {
     "name": "stdout",
     "output_type": "stream",
     "text": [
      "1/1 [==============================] - 4s 4s/step\n",
      "not_cyberbullying\n"
     ]
    }
   ],
   "source": [
    "# Prediksi jenis tweet\n",
    "\n",
    "y_inf_pred = np.argmax(model_lstm.predict(data_inf['tweet_processed']), axis=-1)\n",
    "\n",
    "# Membuat fungsi untuk return result prediksi\n",
    "if y_inf_pred[0] == 0:\n",
    "    result = 'age'\n",
    "elif y_inf_pred[0] == 1:\n",
    "    result = 'ethnicity'\n",
    "elif y_inf_pred[0] == 2:\n",
    "    result = 'gender'\n",
    "elif y_inf_pred[0] == 3:\n",
    "    result = 'not_cyberbullying'\n",
    "elif y_inf_pred[0] == 4:\n",
    "    result = 'other_cyberbullying'\n",
    "else:\n",
    "    result = 'religion'\n",
    "\n",
    "# Print Result\n",
    "print(result)"
   ]
  },
  {
   "attachments": {},
   "cell_type": "markdown",
   "metadata": {},
   "source": [
    "Berdasarkan informasi diatas maka jenis tweet termasuk `not_cyberbullying`"
   ]
  }
 ],
 "metadata": {
  "kernelspec": {
   "display_name": "base",
   "language": "python",
   "name": "python3"
  },
  "language_info": {
   "codemirror_mode": {
    "name": "ipython",
    "version": 3
   },
   "file_extension": ".py",
   "mimetype": "text/x-python",
   "name": "python",
   "nbconvert_exporter": "python",
   "pygments_lexer": "ipython3",
   "version": "3.9.13"
  },
  "orig_nbformat": 4,
  "vscode": {
   "interpreter": {
    "hash": "263930470851f494f0ed2879c35b57985588df20f9e529b86e97dd5eb9ddc466"
   }
  }
 },
 "nbformat": 4,
 "nbformat_minor": 2
}
